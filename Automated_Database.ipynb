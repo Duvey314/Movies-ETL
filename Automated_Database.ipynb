{
 "cells": [
  {
   "cell_type": "markdown",
   "metadata": {},
   "source": [
    "# Challenge\n",
    "---\n",
    "\n",
    "Create a function that takes in three arguments: Wikipedia data, Kaggle metadata, MovieLens rating data (from Kaggle)\n",
    "\n",
    "Use the code from your Jupyter Notebook so that the function performs all of the transformation steps. Remove any exploratory data analysis and redundant code.\n",
    "    \n",
    "Add the load steps from the Jupyter Notebook to the function. You’ll need to remove the existing data from SQL, but keep the empty tables.\n",
    "    \n",
    "Check that the function works correctly on the current Wikipedia and Kaggle data.\n",
    "\n",
    "Document any assumptions that are being made. Use try-except blocks to account for unforeseen problems that may arise with new data.\n"
   ]
  },
  {
   "cell_type": "code",
   "execution_count": null,
   "metadata": {},
   "outputs": [],
   "source": [
    "# parsing json files\n",
    "import json\n",
    "\n",
    "# pandas df\n",
    "import pandas as pd\n",
    "\n",
    "# array modification\n",
    "import numpy as np\n",
    "\n",
    "# for regular expressions\n",
    "import re\n",
    "\n",
    "# for importing to sql\n",
    "from sqlalchemy import create_engine\n",
    "\n",
    "# for pg admin password\n",
    "from config import db_password\n",
    "\n",
    "# for tracking long improt to sql\n",
    "import time"
   ]
  },
  {
   "cell_type": "code",
   "execution_count": null,
   "metadata": {},
   "outputs": [],
   "source": [
    "# r added to make it a raw string to ignore escape characters\n",
    "file_dir = r'C:\\Users\\rudow\\Documents\\Bootcamp\\Module 8 - Movies ETL\\Movies-ETL'\n",
    "\n",
    "# pull in wiki data\n",
    "with open(f'{file_dir}\\wikipedia.movies.json', mode='r') as file:\n",
    "    wiki_movies_raw = json.load(file)\n",
    "\n",
    "# pull in kaggle data   \n",
    "kaggle_metadata = pd.read_csv(f'{file_dir}\\movies_metadata.csv', low_memory = False)\n",
    "ratings = pd.read_csv(fr'{file_dir}\\ratings.csv')"
   ]
  }
 ],
 "metadata": {
  "kernelspec": {
   "display_name": "PythonData",
   "language": "python",
   "name": "pythondata"
  },
  "language_info": {
   "codemirror_mode": {
    "name": "ipython",
    "version": 3
   },
   "file_extension": ".py",
   "mimetype": "text/x-python",
   "name": "python",
   "nbconvert_exporter": "python",
   "pygments_lexer": "ipython3",
   "version": "3.7.7"
  }
 },
 "nbformat": 4,
 "nbformat_minor": 4
}
